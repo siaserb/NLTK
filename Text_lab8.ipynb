{
  "cells": [
    {
      "cell_type": "markdown",
      "id": "99b85505",
      "metadata": {
        "id": "99b85505"
      },
      "source": [
        "## Лабораторна робота №8\n",
        "__Варіант 1__"
      ]
    },
    {
      "cell_type": "markdown",
      "id": "d290510b",
      "metadata": {
        "id": "d290510b"
      },
      "source": [
        "Завдання до лабораторної роботи:\n",
        "1. Створити кілька своїх прикладів у форматі json за тематикою варіанту (англійською або українською мовою) для розпізнавання нового типу сутностей (обрати самостійно). Створити програму, що додає ці приклади до існуючої моделі spaCy, навчає модель. Продемонструвати роботу.\n",
        "2. Застосувати компонент TextCategorizer для визначення намірів. Дані для навчання за тематикою варіанту обрати самостійно або скористатись вказаним файлом (utterance містить висловлювання, intent - намір). Дані файли містять приклади діалогів користувачів з системою-помічником за певною тематикою, наприклад, замовлення квитків і т.д. Навчити компонент та продемонструвати роботу."
      ]
    },
    {
      "cell_type": "markdown",
      "id": "a9478803",
      "metadata": {
        "id": "a9478803"
      },
      "source": [
        "Варіант 1.\n",
        "Тематика: музика. Файл music.json."
      ]
    },
    {
      "cell_type": "markdown",
      "id": "2ce5c6a4",
      "metadata": {
        "id": "2ce5c6a4"
      },
      "source": [
        "1. Створити кілька своїх прикладів у форматі json за тематикою варіанту (англійською або українською мовою) для розпізнавання нового типу сутностей (обрати самостійно). Створити програму, що додає ці приклади до існуючої моделі spaCy, навчає модель. Продемонструвати роботу."
      ]
    },
    {
      "cell_type": "markdown",
      "id": "07231de8",
      "metadata": {
        "id": "07231de8"
      },
      "source": [
        "[\n",
        "    {\n",
        "        \"text\": \"Rammstein is a German Neue Deutsche Härte band formed in Berlin in 1994.\",\n",
        "        \"entities\": [\n",
        "            {\"start\": 0, \"end\": 9, \"label\": \"MUSIC_ARTIST\"}\n",
        "        ]\n",
        "    },\n",
        "    {\n",
        "        \"text\": \"Rammstein's album Mutter includes some of their most famous songs.\",\n",
        "        \"entities\": [\n",
        "            {\"start\": 0, \"end\": 18, \"label\": \"MUSIC_ALBUM\"},\n",
        "            {\"start\": 0, \"end\": 9, \"label\": \"MUSIC_ARTIST\"}\n",
        "        ]\n",
        "    },\n",
        "    {\n",
        "        \"text\": \"Other bands in the Neue Deutsche Härte genre include Oomph! and Eisbrecher.\",\n",
        "        \"entities\": [\n",
        "            {\"start\": 54, \"end\": 60, \"label\": \"MUSIC_ARTIST\"},\n",
        "            {\"start\": 65, \"end\": 75, \"label\": \"MUSIC_ARTIST\"}\n",
        "        ]\n",
        "    }\n",
        "]\n"
      ]
    },
    {
      "cell_type": "code",
      "execution_count": null,
      "id": "0fa35714",
      "metadata": {
        "id": "0fa35714"
      },
      "outputs": [],
      "source": [
        "import spacy\n",
        "import random\n",
        "from spacy.training.example import Example"
      ]
    },
    {
      "cell_type": "code",
      "execution_count": null,
      "id": "303d170b",
      "metadata": {
        "id": "303d170b"
      },
      "outputs": [],
      "source": [
        "nlp = spacy.load(\"en_core_web_md\")\n",
        "\n",
        "trainset = [\n",
        "    (\"Rammstein is a German Neue Deutsche Härte band formed in Berlin in 1994.\", {\"entities\": [(0, 9, \"MUSIC_ARTIST\")]}),\n",
        "    (\"Rammstein's album Mutter includes some of their most famous songs.\", {\"entities\": [(0, 9, \"MUSIC_ARTIST\"), (18, 24, \"MUSIC_ALBUM\")]}),\n",
        "    (\"Other bands in the Neue Deutsche Härte genre include Oomph! and Eisbrecher.\", {\"entities\": [(54, 60, \"MUSIC_ARTIST\"), (65, 75, \"MUSIC_ARTIST\")]}),\n",
        "]\n",
        "\n",
        "epochs = 20\n",
        "\n",
        "other_pipes = [pipe for pipe in nlp.pipe_names if pipe != 'ner']\n",
        "with nlp.disable_pipes(*other_pipes):\n",
        "    optimizer = nlp.create_optimizer()\n",
        "    for i in range(epochs):\n",
        "        random.shuffle(trainset)\n",
        "        for text, annotations in trainset:\n",
        "            doc = nlp.make_doc(text)\n",
        "            example = Example.from_dict(doc, annotations)\n",
        "            nlp.update([example], sgd=optimizer)\n",
        "\n",
        "ner = nlp.get_pipe(\"ner\")\n",
        "ner.to_disk(\"new_ner\")"
      ]
    },
    {
      "cell_type": "code",
      "execution_count": null,
      "id": "2dc772cd",
      "metadata": {
        "id": "2dc772cd",
        "outputId": "83f01472-a29c-4e47-c728-5af1339d64f5"
      },
      "outputs": [
        {
          "name": "stdout",
          "output_type": "stream",
          "text": [
            "[('Rammstein', 'MUSIC_ARTIST'), ('Mutter', 'MUSIC_ALBUM')]\n"
          ]
        }
      ],
      "source": [
        "doc= nlp(\"Rammstein's album Mutter was released in 2001.\")\n",
        "print([(ent.text, ent.label_) for ent in doc.ents])"
      ]
    },
    {
      "cell_type": "markdown",
      "id": "ab63dcfa",
      "metadata": {
        "id": "ab63dcfa"
      },
      "source": [
        "2. Застосувати компонент TextCategorizer для визначення намірів. Дані для навчання за тематикою варіанту обрати самостійно або скористатись вказаним файлом (utterance містить висловлювання, intent - намір). Дані файли містять приклади діалогів користувачів з системою-помічником за певною тематикою, наприклад, замовлення квитків і т.д. Навчити компонент та продемонструвати роботу."
      ]
    },
    {
      "cell_type": "code",
      "execution_count": null,
      "id": "aaec9d09",
      "metadata": {
        "id": "aaec9d09"
      },
      "outputs": [],
      "source": [
        "import json\n",
        "from typing import List, Tuple\n",
        "\n",
        "def load_data(file_path: str) -> List[Tuple[str, dict]]:\n",
        "    with open(file_path, 'r') as f:\n",
        "        data = json.load(f)\n",
        "    training_data = []\n",
        "    for dialogue in data:\n",
        "        for turn in dialogue['turns']:\n",
        "            if turn['speaker'] == 'USER':\n",
        "                for frame in turn['frames']:\n",
        "                    if frame['state']['active_intent']:\n",
        "                        training_data.append(\n",
        "                            (turn['utterance'], {'cats': {frame['state']['active_intent']: 1.0}})\n",
        "                        )\n",
        "    return training_data\n",
        "\n",
        "file_path = 'music.json'\n",
        "TRAIN_DATA = load_data(file_path)"
      ]
    },
    {
      "cell_type": "code",
      "execution_count": null,
      "id": "df518dec",
      "metadata": {
        "id": "df518dec"
      },
      "outputs": [],
      "source": [
        "import spacy\n",
        "from spacy.util import minibatch, compounding\n",
        "from spacy.training import Example"
      ]
    },
    {
      "cell_type": "code",
      "execution_count": null,
      "id": "9a5156b2",
      "metadata": {
        "id": "9a5156b2",
        "outputId": "ee1d8bed-c7b3-4c96-8c57-eba865fd37d4"
      },
      "outputs": [
        {
          "name": "stdout",
          "output_type": "stream",
          "text": [
            "Loss: {'textcat': 50.9850091059602}\n",
            "Loss: {'textcat': 32.58437335263054}\n",
            "Loss: {'textcat': 28.826258899176327}\n",
            "Loss: {'textcat': 24.761861798954165}\n",
            "Loss: {'textcat': 22.341238014918765}\n",
            "Loss: {'textcat': 20.631518462545355}\n",
            "Loss: {'textcat': 20.029475309292806}\n",
            "Loss: {'textcat': 18.37929235322587}\n",
            "Loss: {'textcat': 16.811501895722923}\n",
            "Loss: {'textcat': 18.931701475994082}\n"
          ]
        }
      ],
      "source": [
        "# без заданих міток/ without pre-defined labels\n",
        "\n",
        "# Load a spacy model.\n",
        "nlp = spacy.blank('en')\n",
        "\n",
        "# Add TextCategorizer to the pipeline\n",
        "textcat = nlp.add_pipe(\"textcat\")\n",
        "\n",
        "# Add labels to the TextCategorizer\n",
        "for _, annotations in TRAIN_DATA:\n",
        "    for label in annotations['cats'].keys():\n",
        "        textcat.add_label(label)\n",
        "\n",
        "# Train the TextCategorizer\n",
        "optimizer = nlp.initialize()\n",
        "batch_sizes = compounding(4.0, 32.0, 1.001)\n",
        "for i in range(10):  # Number of training iterations\n",
        "    loss = {}\n",
        "    for text, annotations in TRAIN_DATA:\n",
        "        doc = nlp.make_doc(text)\n",
        "        example = Example.from_dict(doc, annotations)\n",
        "        nlp.update([example], sgd=optimizer, losses=loss)\n",
        "    print(f\"Loss: {loss}\")  # Print the training loss"
      ]
    },
    {
      "cell_type": "code",
      "execution_count": null,
      "id": "fd62ef6f",
      "metadata": {
        "id": "fd62ef6f",
        "outputId": "c9ab0b60-4ca3-4d09-f11c-eb6955e1f020"
      },
      "outputs": [
        {
          "name": "stdout",
          "output_type": "stream",
          "text": [
            "{'LookupMusic': 0.705403745174408, 'PlayMedia': 4.3366049794713035e-05, 'NONE': 0.000829760916531086, 'LookupSong': 0.28418806195259094, 'PlaySong': 0.00953500997275114}\n"
          ]
        }
      ],
      "source": [
        "test_text = \"I want to listen to some songs.\"\n",
        "doc = nlp(test_text)\n",
        "print(doc.cats)  # Outputs the probability score for each category"
      ]
    }
  ],
  "metadata": {
    "kernelspec": {
      "display_name": "Python 3 (ipykernel)",
      "language": "python",
      "name": "python3"
    },
    "language_info": {
      "codemirror_mode": {
        "name": "ipython",
        "version": 3
      },
      "file_extension": ".py",
      "mimetype": "text/x-python",
      "name": "python",
      "nbconvert_exporter": "python",
      "pygments_lexer": "ipython3",
      "version": "3.9.1"
    },
    "colab": {
      "provenance": []
    }
  },
  "nbformat": 4,
  "nbformat_minor": 5
}