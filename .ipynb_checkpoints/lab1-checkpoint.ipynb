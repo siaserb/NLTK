{
 "cells": [
  {
   "cell_type": "markdown",
   "id": "9352a40d",
   "metadata": {},
   "source": [
    "Завдання до лабораторної роботи\n",
    "Створити програму, яка:\n",
    "1. Зчитує текстовий файл відповідно до варіанту як рядок. За допомогою\n",
    "зрізів виділити частину тексту в окрему змінну-рядок та використати\n",
    "описані в теоретичних відомостях функції та методи для роботи з\n",
    "рядками.\n",
    "2. За допомогою регулярних виразів:\n",
    "Варіант 1\n",
    "Знайти всі номери телефонів та замінити зірочками всі цифри\n",
    "після першої. Файл text1."
   ]
  },
  {
   "cell_type": "code",
   "execution_count": 131,
   "id": "2b7a7d66",
   "metadata": {},
   "outputs": [],
   "source": [
    "import re"
   ]
  },
  {
   "cell_type": "code",
   "execution_count": 132,
   "id": "91cf865b",
   "metadata": {},
   "outputs": [
    {
     "name": "stdout",
     "output_type": "stream",
     "text": [
      "At three  o'clock 12/05/1895 precisely I was at Baker Street, but Holmes had not\n",
      "yet returned (005)-456-34-23. The landlady informed me that he baker_street@here.uk had left the house\n",
      "shortly after eight o'clock in the morning. I sat down beside the\n",
      "fire, however, with the intention of awaiting him,, however long he\n",
      "might be. 145 124 245 I was already 67-56-34 deeply interested in his inquiry, for, though\n",
      "it was surrounded by none of the grim and strange features which\n",
      "were Watson3@gmail.com associated with the two crimes which I have already recorded,\n",
      "still, the nature of  the case and the exalted station of his client\n",
      "gave it a character of its own 1896/01/23.. Indeed, apart from the nature of the\n",
      "investigation which my friend had on hand, there was something in his\n",
      "masterly 5618 4582 8225 1471 grasp of a situation, and his (03)-8-45-34 keen, incisive reasoning, which\n",
      "made it a pleasure to me to study his system of work, and to follow the\n",
      "quick, subtle 4987 1514 6555 4212 methods by which he disentangled the most inextricable\n",
      "mysteries. So accustomed was I ShHolmes@mail.uk to his invariable success that the very\n",
      "possibility of his failing  had ceased to enter into my head.\n"
     ]
    }
   ],
   "source": [
    "#імпортуємо текст у змінну як рядок\n",
    "text_file = open(\"text1_1.txt\", \"r\")\n",
    "text = text_file.read()\n",
    "text_file.close()\n",
    "print(text)"
   ]
  },
  {
   "cell_type": "code",
   "execution_count": 133,
   "id": "b5efb0db",
   "metadata": {},
   "outputs": [
    {
     "name": "stdout",
     "output_type": "stream",
     "text": [
      "At three  o'clock 12/05/1895 precisely I was at Baker Street, but Holmes had not\n",
      "yet returned (005)-456-34-23. The landlady informed me that he baker_street@here.uk had left the house\n",
      "shortly after eight o'clock in the morning. I sat down beside the\n",
      "fire, however, with the intention of awaiting him,\n"
     ]
    }
   ],
   "source": [
    "#за допомогою зрізу виділяємо частину тексту\n",
    "text = text[0:300]\n",
    "print(text)"
   ]
  },
  {
   "cell_type": "code",
   "execution_count": 134,
   "id": "6ce51b5e",
   "metadata": {},
   "outputs": [
    {
     "name": "stdout",
     "output_type": "stream",
     "text": [
      "(005)-456-34-23\n"
     ]
    }
   ],
   "source": [
    "#використовуємо регулярний вираз для пошуку номерів \n",
    "pattern = re.compile(r'\\((\\d)(\\d{2})\\)-(\\d{3})-(\\d{2})-(\\d{2})')\n",
    "numbers = (pattern.search(text).group(0))\n",
    "print(numbers)"
   ]
  },
  {
   "cell_type": "code",
   "execution_count": 136,
   "id": "dc6a7fa6",
   "metadata": {},
   "outputs": [
    {
     "name": "stdout",
     "output_type": "stream",
     "text": [
      "(0**)-***-**-**\n"
     ]
    }
   ],
   "source": [
    "#виконуємо заміну\n",
    "replacement = r'(\\1**)-***-**-**'\n",
    "result = re.sub(pattern, replacement, numbers)\n",
    "print(result)"
   ]
  }
 ],
 "metadata": {
  "kernelspec": {
   "display_name": "Python 3 (ipykernel)",
   "language": "python",
   "name": "python3"
  },
  "language_info": {
   "codemirror_mode": {
    "name": "ipython",
    "version": 3
   },
   "file_extension": ".py",
   "mimetype": "text/x-python",
   "name": "python",
   "nbconvert_exporter": "python",
   "pygments_lexer": "ipython3",
   "version": "3.11.2"
  }
 },
 "nbformat": 4,
 "nbformat_minor": 5
}
