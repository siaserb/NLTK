{
  "nbformat": 4,
  "nbformat_minor": 0,
  "metadata": {
    "colab": {
      "provenance": []
    },
    "kernelspec": {
      "name": "python3",
      "display_name": "Python 3"
    },
    "language_info": {
      "name": "python"
    }
  },
  "cells": [
    {
      "cell_type": "markdown",
      "source": [
        "Створити програму, яка:\n",
        "1. За допомогою класу Matcher знайти всі номери телефонів та замінити зірочками всі цифри після першої. Файл text1.\n",
        "2. Виконує завдання засобами бібліотеки spaCy.\n",
        "Файл lab7-1.txt.\n",
        "а) Знайти та вивести стоп-слова, які присутні у тексті.\n",
        "б) Знайти та вивести всі іменники, які присутні у тексті.\n",
        "в) Знайти та вивести числа і дати, які присутні у тексті."
      ],
      "metadata": {
        "id": "uq43Do9xFV9G"
      }
    },
    {
      "cell_type": "code",
      "source": [
        "import spacy\n",
        "from spacy.matcher import Matcher\n",
        "import re"
      ],
      "metadata": {
        "id": "wvmUK5E_Lvq1"
      },
      "execution_count": null,
      "outputs": []
    },
    {
      "cell_type": "code",
      "source": [
        "text_file = open(\"text1.txt\", \"r\")\n",
        "text = text_file.read()\n",
        "text_file.close()\n",
        "print(text)"
      ],
      "metadata": {
        "colab": {
          "base_uri": "https://localhost:8080/"
        },
        "id": "jGjhSLA6N4Ae",
        "outputId": "a8c126d7-f38d-4521-9fe0-dbf9669b8bed"
      },
      "execution_count": null,
      "outputs": [
        {
          "output_type": "stream",
          "name": "stdout",
          "text": [
            "At three  o'clock 12/05/1895 precisely I was at Baker Street, but Holmes had not\n",
            "yet returned (005) - 456-34-23. The landlady informed me that he baker_street@here.uk had left the house\n",
            "shortly after eight o'clock in the morning. I sat down beside the\n",
            "fire, however, with the intention of awaiting him,, however long he\n",
            "might be. 145 124 245 I was already 67-56-34 deeply interested in his inquiry, for, though\n",
            "it was surrounded by none of the grim and strange features which\n",
            "were Watson3@gmail.com associated with the two crimes which I have already recorded,\n",
            "still, the nature of  the case and the exalted station of his client\n",
            "gave it a character of its own 1896/01/23.. Indeed, apart from the nature of the\n",
            "investigation which my friend had on hand, there was something in his\n",
            "masterly 5618 4582 8225 1471 grasp of a situation, and his (03) - 8-45-34 keen, incisive reasoning, which\n",
            "made it a pleasure to me to study his system of work, and to follow the\n",
            "quick, subtle 4987 1514 6555 4212 methods by which he disentangled the most inextricable\n",
            "mysteries. So accustomed was I ShHolmes@mail.uk to his invariable success that the very\n",
            "possibility of his failing  had ceased to enter into my head.\n"
          ]
        }
      ]
    },
    {
      "cell_type": "code",
      "source": [
        "nlp = spacy.load(\"en_core_web_sm\")\n",
        "\n",
        "pattern1 = [{\"SHAPE\": \"dd\"}, {\"TEXT\": \"-\"}, {\"SHAPE\": \"dd\"}, {\"TEXT\": \"-\"}, {\"SHAPE\": \"dd\"}]\n",
        "pattern2 = [{\"TEXT\": \"(\"}, {\"SHAPE\": \"dd\"}, {\"TEXT\": \")\"}, {\"TEXT\": \"-\"}, {\"SHAPE\": \"d\"}, {\"TEXT\": \"-\"}, {\"SHAPE\": \"dd\"}, {\"TEXT\": \"-\"}, {\"SHAPE\": \"dd\"}]\n",
        "pattern3 = [{\"TEXT\": \"(\"}, {\"SHAPE\": \"ddd\"}, {\"TEXT\": \")\"}, {\"TEXT\": \"-\"}, {\"SHAPE\": \"ddd\"}, {\"TEXT\": \"-\"}, {\"SHAPE\": \"dd\"}, {\"TEXT\": \"-\"}, {\"SHAPE\": \"dd\"}]\n",
        "\n",
        "matcher = Matcher(nlp.vocab)\n",
        "matcher.add(\"Phone_number\", [pattern1, pattern2, pattern3])\n",
        "doc = nlp(text)\n",
        "\n",
        "matches = matcher(doc)\n",
        "numbers = []\n",
        "\n",
        "for match_id, start, end in matches:\n",
        "    matched_span = doc[start:end]\n",
        "    numbers.append(matched_span.text)\n",
        "    print(\"Знайдено номер:\", matched_span.text)\n",
        "\n",
        "print(numbers)\n"
      ],
      "metadata": {
        "colab": {
          "base_uri": "https://localhost:8080/"
        },
        "id": "sPlNsjgYqznY",
        "outputId": "5932e760-e641-415c-c05f-3830ae84f971"
      },
      "execution_count": null,
      "outputs": [
        {
          "output_type": "stream",
          "name": "stdout",
          "text": [
            "Знайдено номер: (005) - 456-34-23\n",
            "Знайдено номер: 67-56-34\n",
            "Знайдено номер: (03) - 8-45-34\n",
            "['(005) - 456-34-23', '67-56-34', '(03) - 8-45-34']\n"
          ]
        }
      ]
    },
    {
      "cell_type": "code",
      "source": [
        "masked_numbers = []\n",
        "\n",
        "for number in numbers:\n",
        "    first_digit = re.search(r'\\d', number)\n",
        "    if first_digit:\n",
        "        start_index = first_digit.start() + 1\n",
        "        masked_number = number[:start_index] + re.sub(r'\\d', '*', number[start_index:])\n",
        "        masked_numbers.append(masked_number)\n",
        "    else:\n",
        "        masked_numbers.append(number)\n",
        "\n",
        "print(masked_numbers)\n"
      ],
      "metadata": {
        "colab": {
          "base_uri": "https://localhost:8080/"
        },
        "id": "G2DHjRv_yFTE",
        "outputId": "3875ce3f-9765-4979-bb2b-c8a7b9d486a0"
      },
      "execution_count": null,
      "outputs": [
        {
          "output_type": "stream",
          "name": "stdout",
          "text": [
            "['(0**) - ***-**-**', '6*-**-**', '(0*) - *-**-**']\n"
          ]
        }
      ]
    },
    {
      "cell_type": "code",
      "source": [
        "text_file = open(\"lab7-1.txt\", \"r\")\n",
        "text = text_file.read()\n",
        "text_file.close()\n",
        "print(text)\n",
        "doc = nlp(text)"
      ],
      "metadata": {
        "colab": {
          "base_uri": "https://localhost:8080/"
        },
        "id": "pXYbBiVf3CI3",
        "outputId": "a9bfc306-1df9-4394-f288-08cf46afa100"
      },
      "execution_count": null,
      "outputs": [
        {
          "output_type": "stream",
          "name": "stdout",
          "text": [
            "US retail sales fell 0.3% in January, the biggest monthly decline since last August, driven down by a heavy fall in car sales.  The 3.3% fall in car sales had been expected, coming after December's 4% rise in car sales, fuelled by generous pre-Christmas special offers. Excluding the car sector, US retail sales were up 0.6% in January, twice what some analysts had been expecting. US retail spending is expected to rise in 2005, but not as quickly as in 2004.  Steve Gallagher, US chief economist at SG Corporate & Investment Banking, said January's figures were \"decent numbers\".  \"We are not seeing the numbers that we saw in the second half of 2004, but they are still pretty healthy,\" he added. Sales at appliance and electronic stores were down 0.6% in January, while sales at hardware stores dropped by 0.3% and furniture store sales dipped 0.1%. Sales at clothing and clothing accessory stores jumped 1.8%, while sales at general merchandise stores, a category that includes department stores, rose by 0.9%. These strong gains were in part put down to consumers spending gift vouchers they had been given for Christmas.  Sales at restaurants, bars and coffee houses rose by 0.3%, while grocery store sales were up 0.5%. In December, overall retail sales rose by 1.1%. Excluding the car sector, sales rose by just 0.3%. Parul Jain, deputy chief economist at Nomura Securities International, said consumer spending would continue to rise in 2005, only at a slower rate of growth than in 2004. \"Consumers continue to retain their strength in the first quarter,\" he said. Van Rourke, a bond strategist at Popular Securities, agreed that the latest retail sales figures were \"slightly stronger than expected\". \n"
          ]
        }
      ]
    },
    {
      "cell_type": "code",
      "source": [
        "stop_words = [token.text for token in doc if token.is_stop]\n",
        "print(\"Стоп-слова:\", stop_words)"
      ],
      "metadata": {
        "colab": {
          "base_uri": "https://localhost:8080/"
        },
        "id": "_FnHNoMC4bl4",
        "outputId": "88580b17-25f4-4c51-c49e-04a0a5ef8a4c"
      },
      "execution_count": null,
      "outputs": [
        {
          "output_type": "stream",
          "name": "stdout",
          "text": [
            "Стоп-слова: ['US', 'in', 'the', 'since', 'last', 'down', 'by', 'a', 'in', 'The', 'in', 'had', 'been', 'after', \"'s\", 'in', 'by', 'the', 'US', 'were', 'up', 'in', 'what', 'some', 'had', 'been', 'US', 'is', 'to', 'in', 'but', 'not', 'as', 'as', 'in', 'US', 'at', \"'s\", 'were', 'We', 'are', 'not', 'the', 'that', 'we', 'in', 'the', 'of', 'but', 'they', 'are', 'still', 'he', 'at', 'and', 'were', 'down', 'in', 'while', 'at', 'by', 'and', 'at', 'and', 'while', 'at', 'a', 'that', 'by', 'These', 'were', 'in', 'part', 'put', 'down', 'to', 'they', 'had', 'been', 'for', 'at', 'and', 'by', 'while', 'were', 'up', 'In', 'by', 'the', 'by', 'just', 'at', 'would', 'to', 'in', 'only', 'at', 'a', 'of', 'than', 'in', 'to', 'their', 'in', 'the', 'first', 'he', 'a', 'at', 'that', 'the', 'were', 'than']\n"
          ]
        }
      ]
    },
    {
      "cell_type": "code",
      "source": [
        "nouns = [token.text for token in doc if token.pos_ == \"NOUN\"]\n",
        "print(\"Іменники:\", nouns)"
      ],
      "metadata": {
        "colab": {
          "base_uri": "https://localhost:8080/"
        },
        "id": "-vU8wI9G4cPw",
        "outputId": "a4a09a44-51b2-4121-dec1-cbae03d38392"
      },
      "execution_count": null,
      "outputs": [
        {
          "output_type": "stream",
          "name": "stdout",
          "text": [
            "Іменники: ['sales', '%', 'decline', 'fall', 'car', 'sales', '%', 'fall', 'car', 'sales', '%', 'rise', 'car', 'sales', 'offers', 'car', 'sector', 'sales', '%', 'analysts', 'spending', 'economist', 'figures', 'numbers', 'numbers', 'half', 'Sales', 'appliance', 'stores', '%', 'sales', 'hardware', 'stores', '%', 'furniture', 'store', 'sales', '%', 'Sales', 'clothing', 'clothing', 'accessory', 'stores', '%', 'sales', 'merchandise', 'stores', 'category', 'department', 'stores', '%', 'gains', 'part', 'consumers', 'gift', 'vouchers', 'Sales', 'restaurants', 'bars', 'coffee', 'houses', '%', 'grocery', 'store', 'sales', '%', 'sales', '%', 'car', 'sector', 'sales', '%', 'economist', 'consumer', 'spending', 'rate', 'growth', 'Consumers', 'strength', 'quarter', 'bond', 'strategist', 'sales', 'figures']\n"
          ]
        }
      ]
    },
    {
      "cell_type": "code",
      "source": [
        "numbers = [token.text for token in doc if token.like_num]\n",
        "print(\"Числа:\", numbers)"
      ],
      "metadata": {
        "colab": {
          "base_uri": "https://localhost:8080/"
        },
        "id": "S4Fbiu034d70",
        "outputId": "cddafb77-d743-4c06-b996-8b94de8b4ff9"
      },
      "execution_count": null,
      "outputs": [
        {
          "output_type": "stream",
          "name": "stdout",
          "text": [
            "Числа: ['0.3', '3.3', '4', '0.6', '2005', '2004', 'second', '2004', '0.6', '0.3', '0.1', '1.8', '0.9', '0.3', '0.5', '1.1', '0.3', '2005', '2004', 'first']\n"
          ]
        }
      ]
    },
    {
      "cell_type": "code",
      "source": [
        "dates = [ent.text for ent in doc.ents if ent.label_ == \"DATE\"]\n",
        "print(\"Дати:\", dates)\n"
      ],
      "metadata": {
        "colab": {
          "base_uri": "https://localhost:8080/"
        },
        "id": "v7eAmNxv4gKw",
        "outputId": "68538e02-7c94-4f7b-b973-27a707113a41"
      },
      "execution_count": null,
      "outputs": [
        {
          "output_type": "stream",
          "name": "stdout",
          "text": [
            "Дати: ['January', 'monthly', 'last August', 'December', 'pre-Christmas', 'January', '2005', '2004', 'January', 'the second half of 2004', 'January', 'Christmas', 'December', '2005', '2004', 'the first quarter']\n"
          ]
        }
      ]
    }
  ]
}