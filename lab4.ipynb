{
 "cells": [
  {
   "cell_type": "markdown",
   "id": "30496902",
   "metadata": {},
   "source": [
    "Завдання до лабораторної роботи\n",
    "Створити програму, яка зчитує заданий набір даних, виконує попередню\n",
    "обробку та класифікацію документів відповідно до варіанту.\n",
    "\n",
    "Варіант 1.\n",
    "Файл bbc-news-data.csv. В якості текстової моделі використати TD-\n",
    "IDF. Виконати класифікацію за допомогою алгоритмів наївний байєсів класифікатор та опорні вектори, порівняти їх точність.\n",
    "Спробувати покращити модель наївний байєсів класифікатор за\n",
    "допомогою GridSearchCV."
   ]
  },
  {
   "cell_type": "code",
   "execution_count": 1,
   "id": "c0ce56b2",
   "metadata": {},
   "outputs": [],
   "source": [
    "import numpy as np\n",
    "import pandas as pd\n",
    "import nltk\n",
    "import re\n",
    "\n",
    "from sklearn.datasets import fetch_20newsgroups\n",
    "from sklearn.naive_bayes import MultinomialNB\n",
    "from sklearn.svm import SVC\n",
    "from sklearn.feature_extraction.text import TfidfVectorizer\n",
    "from sklearn.model_selection import GridSearchCV, train_test_split\n",
    "from sklearn.pipeline import Pipeline\n",
    "from sklearn.metrics import accuracy_score"
   ]
  },
  {
   "cell_type": "code",
   "execution_count": 2,
   "id": "d7b3b638",
   "metadata": {},
   "outputs": [
    {
     "name": "stdout",
     "output_type": "stream",
     "text": [
      "   category filename                              title   \n",
      "0  business  001.txt  Ad sales boost Time Warner profit  \\\n",
      "1  business  002.txt   Dollar gains on Greenspan speech   \n",
      "2  business  003.txt  Yukos unit buyer faces loan claim   \n",
      "3  business  004.txt  High fuel prices hit BA's profits   \n",
      "4  business  005.txt  Pernod takeover talk lifts Domecq   \n",
      "\n",
      "                                             content  \n",
      "0   Quarterly profits at US media giant TimeWarne...  \n",
      "1   The dollar has hit its highest level against ...  \n",
      "2   The owners of embattled Russian oil giant Yuk...  \n",
      "3   British Airways has blamed high fuel prices f...  \n",
      "4   Shares in UK drinks and food firm Allied Dome...  \n"
     ]
    }
   ],
   "source": [
    "# імпортуємо таблицю з нестандартним роздільником\n",
    "data = pd.read_csv(\"bbc-news-data.csv\", header=0, sep='\\t')\n",
    "column_names = data.columns.tolist()\n",
    "\n",
    "print(data.head(5))"
   ]
  },
  {
   "cell_type": "code",
   "execution_count": 3,
   "id": "af8b237f",
   "metadata": {},
   "outputs": [
    {
     "name": "stdout",
     "output_type": "stream",
     "text": [
      "   category filename                              title   \n",
      "0  business  001.txt  Ad sales boost Time Warner profit  \\\n",
      "1  business  002.txt   Dollar gains on Greenspan speech   \n",
      "2  business  003.txt  Yukos unit buyer faces loan claim   \n",
      "3  business  004.txt  High fuel prices hit BA's profits   \n",
      "4  business  005.txt  Pernod takeover talk lifts Domecq   \n",
      "\n",
      "                                             content  \n",
      "0  quarterly profits us media giant timewarner ju...  \n",
      "1  dollar hit highest level euro almost three mon...  \n",
      "2  owners embattled russian oil giant yukos ask b...  \n",
      "3  british airways blamed high fuel prices drop p...  \n",
      "4  shares uk drinks food firm allied domecq risen...  \n"
     ]
    }
   ],
   "source": [
    "# за допомогою функції з поперідньої лабораторної обробляємо наш текст\n",
    "wpt = nltk.WordPunctTokenizer()\n",
    "stop_words = nltk.corpus.stopwords.words('english')\n",
    "\n",
    "def preproc_doc(doc):\n",
    "    doc = re.sub(r'[^a-zA-Z\\s]', '', doc, re.I|re.A)\n",
    "    doc = doc.lower()\n",
    "    doc = doc.strip()\n",
    "    tokens = wpt.tokenize(doc)\n",
    "    filtered_tokens = [token for token in tokens if token not in stop_words]\n",
    "    doc = ' '.join(filtered_tokens)\n",
    "    return doc\n",
    "data['content'] = data['content'].apply(preproc_doc)\n",
    "    \n",
    "print(data.head(5))"
   ]
  },
  {
   "cell_type": "code",
   "execution_count": 4,
   "id": "e36fe9f7",
   "metadata": {},
   "outputs": [
    {
     "name": "stdout",
     "output_type": "stream",
     "text": [
      "<class 'pandas.core.frame.DataFrame'>\n",
      "RangeIndex: 2225 entries, 0 to 2224\n",
      "Data columns (total 4 columns):\n",
      " #   Column    Non-Null Count  Dtype \n",
      "---  ------    --------------  ----- \n",
      " 0   category  2225 non-null   object\n",
      " 1   filename  2225 non-null   object\n",
      " 2   title     2225 non-null   object\n",
      " 3   content   2225 non-null   object\n",
      "dtypes: object(4)\n",
      "memory usage: 69.7+ KB\n"
     ]
    }
   ],
   "source": [
    "# виконуємо пошук пустих документі, які могли виникнути під час обробки...\n",
    "data = data.replace(r'^(\\s?)+$', np.nan, regex=True)\n",
    "data.info()"
   ]
  },
  {
   "cell_type": "code",
   "execution_count": 5,
   "id": "48763c95",
   "metadata": {},
   "outputs": [
    {
     "name": "stdout",
     "output_type": "stream",
     "text": [
      "<class 'pandas.core.frame.DataFrame'>\n",
      "RangeIndex: 2225 entries, 0 to 2224\n",
      "Data columns (total 4 columns):\n",
      " #   Column    Non-Null Count  Dtype \n",
      "---  ------    --------------  ----- \n",
      " 0   category  2225 non-null   object\n",
      " 1   filename  2225 non-null   object\n",
      " 2   title     2225 non-null   object\n",
      " 3   content   2225 non-null   object\n",
      "dtypes: object(4)\n",
      "memory usage: 69.7+ KB\n"
     ]
    }
   ],
   "source": [
    "# видаляємо ці документи...\n",
    "data = data.dropna().reset_index(drop=True)\n",
    "data.info()"
   ]
  },
  {
   "cell_type": "code",
   "execution_count": 6,
   "id": "a270047e",
   "metadata": {},
   "outputs": [
    {
     "data": {
      "text/plain": [
       "((1780, 28280), (445, 28280))"
      ]
     },
     "execution_count": 6,
     "metadata": {},
     "output_type": "execute_result"
    }
   ],
   "source": [
    "# розділяємо дані на тренувальну та тестову вибірки\n",
    "train_category, test_category, train_content, test_content = train_test_split(\n",
    "    np.array(data['category']),\n",
    "    np.array(data['content']),\n",
    "    test_size=0.2,\n",
    "    random_state=42\n",
    ")\n",
    "\n",
    "# ініціалізуємо TF-IDF трансформатор\n",
    "tfidf = TfidfVectorizer()\n",
    "\n",
    "# обчислюємо TF-IDF для тренувальної вибірки та трансформуємо дані\n",
    "train_tfidf = tfidf.fit_transform(train_content)\n",
    "\n",
    "# трансформуємо тестову вибірку з використанням попередньо натренованої моделі\n",
    "test_tfidf = tfidf.transform(test_content)\n",
    "\n",
    "# перевіряємо розмір тренувальної та тестової вибірок\n",
    "train_tfidf.shape, test_tfidf.shape\n"
   ]
  },
  {
   "cell_type": "code",
   "execution_count": 7,
   "id": "c94f787b",
   "metadata": {},
   "outputs": [
    {
     "name": "stdout",
     "output_type": "stream",
     "text": [
      "Точність наївного байєсівого класифікатора: 0.9617977528089887\n",
      "Точність опорних векторів: 0.9730337078651685\n"
     ]
    }
   ],
   "source": [
    "# натренуємо наївний байєсів класифікатор та здійснимо класифікацію тестових даних\n",
    "nb_classifier = MultinomialNB()\n",
    "nb_classifier.fit(train_tfidf, train_category)\n",
    "nb_predicted = nb_classifier.predict(test_tfidf)\n",
    "\n",
    "# оцінимо точність наївного байєсівого класифікатора\n",
    "nb_accuracy = accuracy_score(test_category, nb_predicted)\n",
    "print(\"Точність наївного байєсівого класифікатора:\", nb_accuracy)\n",
    "\n",
    "# натренуємо опорні вектори та здійснимо класифікацію тестових даних\n",
    "svm_classifier = SVC(kernel='linear', random_state=42)\n",
    "svm_classifier.fit(train_tfidf, train_category)\n",
    "svm_predicted = svm_classifier.predict(test_tfidf)\n",
    "\n",
    "# оцінимо точність опорних векторів\n",
    "svm_accuracy = accuracy_score(test_category, svm_predicted)\n",
    "print(\"Точність опорних векторів:\", svm_accuracy)"
   ]
  },
  {
   "cell_type": "code",
   "execution_count": 8,
   "id": "4a481e16",
   "metadata": {},
   "outputs": [
    {
     "name": "stdout",
     "output_type": "stream",
     "text": [
      "Точність оновленого баєсівого класифікатору: 0.9752808988764045\n"
     ]
    }
   ],
   "source": [
    "# створюємо класифікатор наївного байєсівського класифікатора та параметри для GridSearchCV\n",
    "nb_classifier = MultinomialNB()\n",
    "nb_params = {'vect__ngram_range': [(1, 1), (1, 2), (1, 3)],\n",
    "             'clf__alpha': [0.01, 0.1, 1.0]}\n",
    "\n",
    "# створюємо пайплайн для класифікатора наївного байєсівського класифікатора та TF-IDF векторизатора\n",
    "nb_pipeline = Pipeline([('vect', TfidfVectorizer()), ('clf', nb_classifier)])\n",
    "\n",
    "# застосовуємо GridSearchCV для знаходження найкращих параметрів для класифікатора наївного байєсівського класифікатора\n",
    "nb_grid_search = GridSearchCV(nb_pipeline, nb_params, cv=10, n_jobs=-1)\n",
    "nb_grid_search.fit(train_content, train_category)\n",
    "\n",
    "# передбачаємо класифікацію на тестовій вибірці\n",
    "nb_predicted = nb_grid_search.predict(test_content)\n",
    "\n",
    "# обчислюємо точність класифікації\n",
    "nb_accuracy = accuracy_score(test_category, nb_predicted)\n",
    "print(\"Точність оновленого баєсівого класифікатору:\", nb_accuracy)"
   ]
  }
 ],
 "metadata": {
  "kernelspec": {
   "display_name": "Python 3 (ipykernel)",
   "language": "python",
   "name": "python3"
  },
  "language_info": {
   "codemirror_mode": {
    "name": "ipython",
    "version": 3
   },
   "file_extension": ".py",
   "mimetype": "text/x-python",
   "name": "python",
   "nbconvert_exporter": "python",
   "pygments_lexer": "ipython3",
   "version": "3.11.2"
  }
 },
 "nbformat": 4,
 "nbformat_minor": 5
}
