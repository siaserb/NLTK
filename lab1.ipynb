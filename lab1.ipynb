{
 "cells": [
  {
   "cell_type": "markdown",
   "id": "9352a40d",
   "metadata": {},
   "source": [
    "Завдання до лабораторної роботи\n",
    "Створити програму, яка:\n",
    "1. Зчитує текстовий файл відповідно до варіанту як рядок. За допомогою\n",
    "зрізів виділити частину тексту в окрему змінну-рядок та використати\n",
    "описані в теоретичних відомостях функції та методи для роботи з\n",
    "рядками.\n",
    "2. За допомогою регулярних виразів:\n",
    "Варіант 1\n",
    "Знайти всі номери телефонів та замінити зірочками всі цифри\n",
    "після першої. Файл text1."
   ]
  },
  {
   "cell_type": "code",
   "execution_count": 1,
   "id": "2b7a7d66",
   "metadata": {},
   "outputs": [],
   "source": [
    "import re"
   ]
  },
  {
   "cell_type": "code",
   "execution_count": 2,
   "id": "91cf865b",
   "metadata": {},
   "outputs": [
    {
     "name": "stdout",
     "output_type": "stream",
     "text": [
      "At three  o'clock 12/05/1895 precisely I was at Baker Street, but Holmes had not\n",
      "yet returned (005)-456-34-23. The landlady informed me that he baker_street@here.uk had left the house\n",
      "shortly after eight o'clock in the morning. I sat down beside the\n",
      "fire, however, with the intention of awaiting him,, however long he\n",
      "might be. 145 124 245 I was already 67-56-34 deeply interested in his inquiry, for, though\n",
      "it was surrounded by none of the grim and strange features which\n",
      "were Watson3@gmail.com associated with the two crimes which I have already recorded,\n",
      "still, the nature of  the case and the exalted station of his client\n",
      "gave it a character of its own 1896/01/23.. Indeed, apart from the nature of the\n",
      "investigation which my friend had on hand, there was something in his\n",
      "masterly 5618 4582 8225 1471 grasp of a situation, and his (03)-8-45-34 keen, incisive reasoning, which\n",
      "made it a pleasure to me to study his system of work, and to follow the\n",
      "quick, subtle 4987 1514 6555 4212 methods by which he disentangled the most inextricable\n",
      "mysteries. So accustomed was I ShHolmes@mail.uk to his invariable success that the very\n",
      "possibility of his failing  had ceased to enter into my head.\n"
     ]
    }
   ],
   "source": [
    "#імпортуємо текст у змінну як рядок\n",
    "text_file = open(\"text1_1.txt\", \"r\")\n",
    "text = text_file.read()\n",
    "text_file.close()\n",
    "print(text)"
   ]
  },
  {
   "cell_type": "code",
   "execution_count": 3,
   "id": "b5efb0db",
   "metadata": {},
   "outputs": [
    {
     "name": "stdout",
     "output_type": "stream",
     "text": [
      "At three  o'clock 12/05/1895 precisely I was at Baker Street, but Holmes had not\n",
      "yet returned (005)-456-34-23. The landlady informed me that he baker_street@here.uk had left the house\n",
      "shortly after eight o'clock in the morning. I sat down beside the\n",
      "fire, however, with the intention of awaiting him,\n"
     ]
    }
   ],
   "source": [
    "#за допомогою зрізу виділяємо частину тексту\n",
    "text = text[0:300]\n",
    "print(text)"
   ]
  },
  {
   "cell_type": "code",
   "execution_count": 4,
   "id": "988ac521",
   "metadata": {},
   "outputs": [
    {
     "data": {
      "text/plain": [
       "300"
      ]
     },
     "execution_count": 4,
     "metadata": {},
     "output_type": "execute_result"
    }
   ],
   "source": [
    "len(text)"
   ]
  },
  {
   "cell_type": "code",
   "execution_count": 5,
   "id": "d99de12c",
   "metadata": {},
   "outputs": [
    {
     "data": {
      "text/plain": [
       "26"
      ]
     },
     "execution_count": 5,
     "metadata": {},
     "output_type": "execute_result"
    }
   ],
   "source": [
    "text.count('t')"
   ]
  },
  {
   "cell_type": "code",
   "execution_count": 6,
   "id": "3d256ca4",
   "metadata": {},
   "outputs": [
    {
     "data": {
      "text/plain": [
       "6"
      ]
     },
     "execution_count": 6,
     "metadata": {},
     "output_type": "execute_result"
    }
   ],
   "source": [
    "text.find('e')"
   ]
  },
  {
   "cell_type": "code",
   "execution_count": 7,
   "id": "b441240d",
   "metadata": {},
   "outputs": [
    {
     "data": {
      "text/plain": [
       "3"
      ]
     },
     "execution_count": 7,
     "metadata": {},
     "output_type": "execute_result"
    }
   ],
   "source": [
    "text.index(\"three\")"
   ]
  },
  {
   "cell_type": "code",
   "execution_count": 8,
   "id": "e2951fe7",
   "metadata": {},
   "outputs": [
    {
     "data": {
      "text/plain": [
       "\"AT THREE  O'CLOCK 12/05/1895 PRECISELY I WAS AT BAKER STREET, BUT HOLMES HAD NOT\\nYET RETURNED (005)-456-34-23. THE LANDLADY INFORMED ME THAT HE BAKER_STREET@HERE.UK HAD LEFT THE HOUSE\\nSHORTLY AFTER EIGHT O'CLOCK IN THE MORNING. I SAT DOWN BESIDE THE\\nFIRE, HOWEVER, WITH THE INTENTION OF AWAITING HIM,\""
      ]
     },
     "execution_count": 8,
     "metadata": {},
     "output_type": "execute_result"
    }
   ],
   "source": [
    "# ...\n",
    "text.upper()"
   ]
  },
  {
   "cell_type": "code",
   "execution_count": 9,
   "id": "a60d7ff1",
   "metadata": {},
   "outputs": [
    {
     "data": {
      "text/plain": [
       "\"at three  o'clock 12/05/1895 precisely i was at baker street, but holmes had not\\nyet returned (005)-456-34-23. the landlady informed me that he baker_street@here.uk had left the house\\nshortly after eight o'clock in the morning. i sat down beside the\\nfire, however, with the intention of awaiting him,\""
      ]
     },
     "execution_count": 9,
     "metadata": {},
     "output_type": "execute_result"
    }
   ],
   "source": [
    "# ...\n",
    "text.lower()"
   ]
  },
  {
   "cell_type": "code",
   "execution_count": 10,
   "id": "6128aa17",
   "metadata": {},
   "outputs": [
    {
     "data": {
      "text/plain": [
       "\"At Three  O'Clock 12/05/1895 Precisely I Was At Baker Street, But Holmes Had Not\\nYet Returned (005)-456-34-23. The Landlady Informed Me That He Baker_Street@Here.Uk Had Left The House\\nShortly After Eight O'Clock In The Morning. I Sat Down Beside The\\nFire, However, With The Intention Of Awaiting Him,\""
      ]
     },
     "execution_count": 10,
     "metadata": {},
     "output_type": "execute_result"
    }
   ],
   "source": [
    "text.title()"
   ]
  },
  {
   "cell_type": "code",
   "execution_count": 11,
   "id": "f4ccc1d9",
   "metadata": {},
   "outputs": [
    {
     "data": {
      "text/plain": [
       "\"At three  o'clock 12/05/1895 precisely i was at baker street, but holmes had not\\nyet returned (005)-456-34-23. the landlady informed me that he baker_street@here.uk had left the house\\nshortly after eight o'clock in the morning. i sat down beside the\\nfire, however, with the intention of awaiting him,\""
      ]
     },
     "execution_count": 11,
     "metadata": {},
     "output_type": "execute_result"
    }
   ],
   "source": [
    "text.capitalize()"
   ]
  },
  {
   "cell_type": "code",
   "execution_count": 12,
   "id": "5a0d7681",
   "metadata": {},
   "outputs": [
    {
     "data": {
      "text/plain": [
       "\"A!t! !t!h!r!e!e! ! !o!'!c!l!o!c!k! !1!2!/!0!5!/!1!8!9!5! !p!r!e!c!i!s!e!l!y! !I! !w!a!s! !a!t! !B!a!k!e!r! !S!t!r!e!e!t!,! !b!u!t! !H!o!l!m!e!s! !h!a!d! !n!o!t!\\n!y!e!t! !r!e!t!u!r!n!e!d! !(!0!0!5!)!-!4!5!6!-!3!4!-!2!3!.! !T!h!e! !l!a!n!d!l!a!d!y! !i!n!f!o!r!m!e!d! !m!e! !t!h!a!t! !h!e! !b!a!k!e!r!_!s!t!r!e!e!t!@!h!e!r!e!.!u!k! !h!a!d! !l!e!f!t! !t!h!e! !h!o!u!s!e!\\n!s!h!o!r!t!l!y! !a!f!t!e!r! !e!i!g!h!t! !o!'!c!l!o!c!k! !i!n! !t!h!e! !m!o!r!n!i!n!g!.! !I! !s!a!t! !d!o!w!n! !b!e!s!i!d!e! !t!h!e!\\n!f!i!r!e!,! !h!o!w!e!v!e!r!,! !w!i!t!h! !t!h!e! !i!n!t!e!n!t!i!o!n! !o!f! !a!w!a!i!t!i!n!g! !h!i!m!,\""
      ]
     },
     "execution_count": 12,
     "metadata": {},
     "output_type": "execute_result"
    }
   ],
   "source": [
    "\"!\".join(text)"
   ]
  },
  {
   "cell_type": "code",
   "execution_count": 13,
   "id": "540ac15d",
   "metadata": {},
   "outputs": [
    {
     "data": {
      "text/plain": [
       "False"
      ]
     },
     "execution_count": 13,
     "metadata": {},
     "output_type": "execute_result"
    }
   ],
   "source": [
    "text.isalnum() # перевіряє, чи містить рядок лише букви та цифри"
   ]
  },
  {
   "cell_type": "code",
   "execution_count": 14,
   "id": "993aab73",
   "metadata": {},
   "outputs": [
    {
     "data": {
      "text/plain": [
       "False"
      ]
     },
     "execution_count": 14,
     "metadata": {},
     "output_type": "execute_result"
    }
   ],
   "source": [
    "text.isalpha() # перевіряє, чи містить рядок лише букви"
   ]
  },
  {
   "cell_type": "code",
   "execution_count": 15,
   "id": "b03950a2",
   "metadata": {},
   "outputs": [
    {
     "data": {
      "text/plain": [
       "False"
      ]
     },
     "execution_count": 15,
     "metadata": {},
     "output_type": "execute_result"
    }
   ],
   "source": [
    "text.isdigit() # перевіряє, чи містить рядок лише цифри"
   ]
  },
  {
   "cell_type": "code",
   "execution_count": 16,
   "id": "9c01823c",
   "metadata": {},
   "outputs": [
    {
     "data": {
      "text/plain": [
       "False"
      ]
     },
     "execution_count": 16,
     "metadata": {},
     "output_type": "execute_result"
    }
   ],
   "source": [
    "# ...\n",
    "text.istitle() #  перевіряє, чи починається кожне слово рядка з великої літери"
   ]
  },
  {
   "cell_type": "code",
   "execution_count": 17,
   "id": "345e9945",
   "metadata": {},
   "outputs": [
    {
     "data": {
      "text/plain": [
       "False"
      ]
     },
     "execution_count": 17,
     "metadata": {},
     "output_type": "execute_result"
    }
   ],
   "source": [
    "# ...\n",
    "text.isspace() # перевіряє, чи містить рядок лише пробіли"
   ]
  },
  {
   "cell_type": "code",
   "execution_count": 18,
   "id": "d13920af",
   "metadata": {},
   "outputs": [
    {
     "data": {
      "text/plain": [
       "True"
      ]
     },
     "execution_count": 18,
     "metadata": {},
     "output_type": "execute_result"
    }
   ],
   "source": [
    "# ...\n",
    "text.endswith(',') # перевіряє, чи закінчується рядок на задану підстроку"
   ]
  },
  {
   "cell_type": "code",
   "execution_count": 19,
   "id": "42e93d52",
   "metadata": {},
   "outputs": [
    {
     "data": {
      "text/plain": [
       "True"
      ]
     },
     "execution_count": 19,
     "metadata": {},
     "output_type": "execute_result"
    }
   ],
   "source": [
    "text.startswith('A') # перевіряє, чи починається рядок на задану підстроку"
   ]
  },
  {
   "cell_type": "code",
   "execution_count": 20,
   "id": "b3915a9d",
   "metadata": {},
   "outputs": [
    {
     "data": {
      "text/plain": [
       "\"At three  o'clock 12/05/1895 precisely PIN was at Baker Street, but Holmes had not\\nyet returned (005)-456-34-23. The landlady informed me that he baker_street@here.uk had left the house\\nshortly after eight o'clock in the morning. PIN sat down beside the\\nfire, however, with the intention of awaiting him,\""
      ]
     },
     "execution_count": 20,
     "metadata": {},
     "output_type": "execute_result"
    }
   ],
   "source": [
    "text.replace(\"I\", \"PIN\")"
   ]
  },
  {
   "cell_type": "code",
   "execution_count": 21,
   "id": "31525730",
   "metadata": {},
   "outputs": [
    {
     "data": {
      "text/plain": [
       "[\"At three  o'clock 12/05/1895 precisely I w\",\n",
       " 's ',\n",
       " 't B',\n",
       " 'ker Street, but Holmes h',\n",
       " 'd not\\nyet returned (005)-456-34-23. The l',\n",
       " 'ndl',\n",
       " 'dy informed me th',\n",
       " 't he b',\n",
       " 'ker_street@here.uk h',\n",
       " 'd left the house\\nshortly ',\n",
       " \"fter eight o'clock in the morning. I s\",\n",
       " 't down beside the\\nfire, however, with the intention of ',\n",
       " 'w',\n",
       " 'iting him,']"
      ]
     },
     "execution_count": 21,
     "metadata": {},
     "output_type": "execute_result"
    }
   ],
   "source": [
    "text.split(\"a\")"
   ]
  },
  {
   "cell_type": "code",
   "execution_count": 22,
   "id": "3d10adbf",
   "metadata": {},
   "outputs": [
    {
     "name": "stdout",
     "output_type": "stream",
     "text": [
      "12/05/18\n"
     ]
    }
   ],
   "source": [
    "n = re.compile(r'(\\d\\d)/(\\d\\d)/(\\d\\d)')\n",
    "date = n.search(text)\n",
    "print(date.group(0))"
   ]
  },
  {
   "cell_type": "code",
   "execution_count": 23,
   "id": "e5b5e913",
   "metadata": {},
   "outputs": [
    {
     "name": "stdout",
     "output_type": "stream",
     "text": [
      "12/05\n"
     ]
    }
   ],
   "source": [
    "n = re.compile(r'(\\d\\d)/(\\d\\d)?(\\d\\d)')\n",
    "date = n.search(text)\n",
    "print(date.group(0))"
   ]
  },
  {
   "cell_type": "code",
   "execution_count": 24,
   "id": "4cd8225e",
   "metadata": {},
   "outputs": [
    {
     "name": "stdout",
     "output_type": "stream",
     "text": [
      "12/05/18\n"
     ]
    }
   ],
   "source": [
    "n = re.compile(r'(\\d{2})/(\\d{2})/(\\d{2})')\n",
    "date = n.search(text)\n",
    "print(date.group(0))"
   ]
  },
  {
   "cell_type": "code",
   "execution_count": 25,
   "id": "52ba450e",
   "metadata": {},
   "outputs": [
    {
     "name": "stdout",
     "output_type": "stream",
     "text": [
      "['A', 't', 't', 'h', 'r', 'e', 'e', 'o', 'c', 'l', 'o', 'c', 'k', '1', '2', '0', '5', '1', '8', '9', '5', 'p', 'r', 'e', 'c', 'i', 's', 'e', 'l', 'y', 'I', 'w', 'a', 's', 'a', 't', 'B', 'a', 'k', 'e', 'r', 'S', 't', 'r', 'e', 'e', 't', 'b', 'u', 't', 'H', 'o', 'l', 'm', 'e', 's', 'h', 'a', 'd', 'n', 'o', 't', 'y', 'e', 't', 'r', 'e', 't', 'u', 'r', 'n', 'e', 'd', '0', '0', '5', '4', '5', '6', '3', '4', '2', '3', 'T', 'h', 'e', 'l', 'a', 'n', 'd', 'l', 'a', 'd', 'y', 'i', 'n', 'f', 'o', 'r', 'm', 'e', 'd', 'm', 'e', 't', 'h', 'a', 't', 'h', 'e', 'b', 'a', 'k', 'e', 'r', 's', 't', 'r', 'e', 'e', 't', 'h', 'e', 'r', 'e', 'u', 'k', 'h', 'a', 'd', 'l', 'e', 'f', 't', 't', 'h', 'e', 'h', 'o', 'u', 's', 'e', 's', 'h', 'o', 'r', 't', 'l', 'y', 'a', 'f', 't', 'e', 'r', 'e', 'i', 'g', 'h', 't', 'o', 'c', 'l', 'o', 'c', 'k', 'i', 'n', 't', 'h', 'e', 'm', 'o', 'r', 'n', 'i', 'n', 'g', 'I', 's', 'a', 't', 'd', 'o', 'w', 'n', 'b', 'e', 's', 'i', 'd', 'e', 't', 'h', 'e', 'f', 'i', 'r', 'e', 'h', 'o', 'w', 'e', 'v', 'e', 'r', 'w', 'i', 't', 'h', 't', 'h', 'e', 'i', 'n', 't', 'e', 'n', 't', 'i', 'o', 'n', 'o', 'f', 'a', 'w', 'a', 'i', 't', 'i', 'n', 'g', 'h', 'i', 'm']\n"
     ]
    }
   ],
   "source": [
    "# ...\n",
    "n = re.compile(r'[a-zA-Z0-9]')\n",
    "letter_num = n.findall(text)\n",
    "print(letter_num)"
   ]
  },
  {
   "cell_type": "code",
   "execution_count": 26,
   "id": "73039ed8",
   "metadata": {},
   "outputs": [
    {
     "name": "stdout",
     "output_type": "stream",
     "text": [
      "[' ', ' ', ' ', \"'\", ' ', '/', '/', ' ', ' ', ' ', ' ', ' ', ' ', ',', ' ', ' ', ' ', ' ', '\\n', ' ', ' ', '(', ')', '-', '-', '-', '.', ' ', ' ', ' ', ' ', ' ', ' ', ' ', '_', '@', '.', ' ', ' ', ' ', ' ', '\\n', ' ', ' ', ' ', \"'\", ' ', ' ', ' ', '.', ' ', ' ', ' ', ' ', ' ', '\\n', ',', ' ', ',', ' ', ' ', ' ', ' ', ' ', ' ', ',']\n"
     ]
    }
   ],
   "source": [
    "# ...\n",
    "n = re.compile(r'[^a-zA-Z0-9]')\n",
    "symbols = n.findall(text)\n",
    "print(symbols)"
   ]
  },
  {
   "cell_type": "code",
   "execution_count": 27,
   "id": "a8548f40",
   "metadata": {},
   "outputs": [
    {
     "name": "stdout",
     "output_type": "stream",
     "text": [
      "At three  o'clock 12****95 precisely I was at Baker Street, but Holmes had not\n",
      "yet returned (005)-456-34-23. The landlady informed me that he baker_street@here.uk had left the house\n",
      "shortly after eight o'clock in the morning. I sat down beside the\n",
      "fire, however, with the intention of awaiting him,\n"
     ]
    }
   ],
   "source": [
    "n = re.compile(r'(\\d{2})/(\\d{2})/(\\d{2})')\n",
    "new_text = n.sub(r'\\1****', text)\n",
    "print(new_text)"
   ]
  },
  {
   "cell_type": "code",
   "execution_count": 28,
   "id": "6ce51b5e",
   "metadata": {},
   "outputs": [
    {
     "name": "stdout",
     "output_type": "stream",
     "text": [
      "(005)-456-34-23\n"
     ]
    }
   ],
   "source": [
    "#використовуємо регулярний вираз для пошуку номерів \n",
    "pattern = re.compile(r'\\((\\d)(\\d{2})\\)-(\\d{3})-(\\d{2})-(\\d{2})')\n",
    "numbers = (pattern.search(text).group(0))\n",
    "print(numbers)"
   ]
  },
  {
   "cell_type": "code",
   "execution_count": 29,
   "id": "dc6a7fa6",
   "metadata": {},
   "outputs": [
    {
     "name": "stdout",
     "output_type": "stream",
     "text": [
      "(0**)-***-**-**\n"
     ]
    }
   ],
   "source": [
    "#виконуємо заміну\n",
    "replacement = r'(\\1**)-***-**-**'\n",
    "result = re.sub(pattern, replacement, numbers)\n",
    "print(result)"
   ]
  }
 ],
 "metadata": {
  "kernelspec": {
   "display_name": "Python 3 (ipykernel)",
   "language": "python",
   "name": "python3"
  },
  "language_info": {
   "codemirror_mode": {
    "name": "ipython",
    "version": 3
   },
   "file_extension": ".py",
   "mimetype": "text/x-python",
   "name": "python",
   "nbconvert_exporter": "python",
   "pygments_lexer": "ipython3",
   "version": "3.11.2"
  }
 },
 "nbformat": 4,
 "nbformat_minor": 5
}
