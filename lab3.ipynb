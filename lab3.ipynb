{
 "cells": [
  {
   "cell_type": "markdown",
   "id": "3d0af9bc",
   "metadata": {},
   "source": [
    "Завдання до лабораторної роботи\n",
    "Створити програму, яка виконує завдання відповідно до варіанту:\n",
    "Варіант 1.\n",
    "Зчитати файл doc1. Вважати кожен рядок окремим документом\n",
    "корпусу. Виконати попередню обробку корпусу.\n",
    "1) Представити корпус як модель «Сумка слів». Вивести вектор для\n",
    "слова «film».\n",
    "2) Представити корпус як модель TD-IDF. Спробувати\n",
    "кластеризувати документи за допомогою ієрархічної\n",
    "агломераційної кластеризації.\n",
    "3) Представити корпус як модель Word2Vec. Знайти подібні слова\n",
    "до слів shrimp, economy."
   ]
  },
  {
   "cell_type": "code",
   "execution_count": 1,
   "id": "e56c6a5a",
   "metadata": {},
   "outputs": [],
   "source": [
    "import sklearn\n",
    "from sklearn.feature_extraction.text import CountVectorizer\n",
    "import re\n",
    "import nltk\n",
    "from nltk.tokenize import sent_tokenize\n",
    "import numpy as np\n",
    "import pandas as pd\n",
    "from sklearn.feature_extraction.text import TfidfTransformer\n",
    "from sklearn.metrics.pairwise import cosine_similarity\n",
    "from scipy.cluster.hierarchy import dendrogram, linkage, fcluster\n",
    "import matplotlib.pyplot as plt\n",
    "from gensim.models import word2vec"
   ]
  },
  {
   "cell_type": "code",
   "execution_count": 2,
   "id": "598e9630",
   "metadata": {},
   "outputs": [
    {
     "name": "stdout",
     "output_type": "stream",
     "text": [
      "['Whisk the lime juice, oil, chipotle powder, salt, and cumin together in a large bowl. Add the shrimp and toss to combine.\\n', 'Growth in Japan evaporated in the three months to September, sparking renewed concern about an economy not long out of a decade-long trough.\\n', 'The independent film festival will feature two new international cinema competitions.\\n', 'Serve the shrimp with the tortillas and salsa.\\n', 'Twelve films competing in the new world cinema documentary category.\\n', 'The economy had stagnated throughout the 1990s.\\n', 'Actor Daniel Day-Lewis is to be presented with an award for his career in film at the Berlin Film Festival.']\n"
     ]
    }
   ],
   "source": [
    "# зчитуємо файл по рядкам\n",
    "with open('doc1_3.txt', 'r') as file:\n",
    "    corpus = file.readlines()\n",
    "print(corpus)"
   ]
  },
  {
   "cell_type": "code",
   "execution_count": 3,
   "id": "49e9e49a",
   "metadata": {},
   "outputs": [
    {
     "name": "stdout",
     "output_type": "stream",
     "text": [
      "['whisk lime juice oil chipotle powder salt cumin together large bowl add shrimp toss combine'\n",
      " 'growth japan evaporated three months september sparking renewed concern economy long decadelong trough'\n",
      " 'independent film festival feature two new international cinema competitions'\n",
      " 'serve shrimp tortillas salsa'\n",
      " 'twelve films competing new world cinema documentary category'\n",
      " 'economy stagnated throughout'\n",
      " 'actor daniel daylewis presented award career film berlin film festival']\n"
     ]
    }
   ],
   "source": [
    "# виконуємо поперідню підготовку документу...\n",
    "wpt = nltk.WordPunctTokenizer()\n",
    "stop_words = nltk.corpus.stopwords.words('english')\n",
    "\n",
    "def preproc_doc(doc):\n",
    "    doc = re.sub(r'[^a-zA-Z\\s]', '', doc, re.I|re.A)\n",
    "    doc = doc.lower()\n",
    "    doc = doc.strip()\n",
    "    tokens = wpt.tokenize(doc)\n",
    "    filtered_tokens = [token for token in tokens if token not in stop_words]\n",
    "    doc = ' '.join(filtered_tokens)\n",
    "    return doc\n",
    "\n",
    "preproc_corpus = np.vectorize(preproc_doc)\n",
    "p_corpus = preproc_corpus(corpus)\n",
    "\n",
    "print(p_corpus)"
   ]
  },
  {
   "cell_type": "code",
   "execution_count": 4,
   "id": "154fcc0e",
   "metadata": {},
   "outputs": [
    {
     "name": "stdout",
     "output_type": "stream",
     "text": [
      "  (0, 53)\t1\n",
      "  (0, 30)\t1\n",
      "  (0, 28)\t1\n",
      "  (0, 34)\t1\n",
      "  (0, 7)\t1\n",
      "  (0, 35)\t1\n",
      "  (0, 39)\t1\n",
      "  (0, 13)\t1\n",
      "  (0, 47)\t1\n",
      "  (0, 29)\t1\n",
      "  (0, 4)\t1\n",
      "  (0, 1)\t1\n",
      "  (0, 42)\t1\n",
      "  (0, 49)\t1\n",
      "  (0, 9)\t1\n",
      "  (1, 24)\t1\n",
      "  (1, 27)\t1\n",
      "  (1, 19)\t1\n",
      "  (1, 45)\t1\n",
      "  (1, 32)\t1\n",
      "  (1, 40)\t1\n",
      "  (1, 43)\t1\n",
      "  (1, 37)\t1\n",
      "  (1, 12)\t1\n",
      "  (1, 18)\t1\n",
      "  :\t:\n",
      "  (2, 11)\t1\n",
      "  (3, 42)\t1\n",
      "  (3, 41)\t1\n",
      "  (3, 48)\t1\n",
      "  (3, 38)\t1\n",
      "  (4, 33)\t1\n",
      "  (4, 8)\t1\n",
      "  (4, 51)\t1\n",
      "  (4, 23)\t1\n",
      "  (4, 10)\t1\n",
      "  (4, 54)\t1\n",
      "  (4, 17)\t1\n",
      "  (4, 6)\t1\n",
      "  (5, 18)\t1\n",
      "  (5, 44)\t1\n",
      "  (5, 46)\t1\n",
      "  (6, 22)\t2\n",
      "  (6, 21)\t1\n",
      "  (6, 0)\t1\n",
      "  (6, 14)\t1\n",
      "  (6, 15)\t1\n",
      "  (6, 36)\t1\n",
      "  (6, 2)\t1\n",
      "  (6, 5)\t1\n",
      "  (6, 3)\t1\n",
      "(2, 22) 1\n",
      "(6, 22) 2\n"
     ]
    }
   ],
   "source": [
    "# створюємо функцію для пошуку вектора та уявляємо наші документи як сумку слів\n",
    "def get_word_vector(word, cv_matrix, vocab):\n",
    "    if word in vocab:\n",
    "        index = vocab[word]\n",
    "        vector = cv_matrix[:, index].toarray()\n",
    "        nonzero_indices = vector.nonzero()[0]\n",
    "        for i in nonzero_indices:\n",
    "            print(\"({}, {})\".format(i, index), vector[i][0])\n",
    "    else:\n",
    "        print(\"'{}' is not in the vocabulary.\".format(word))\n",
    "\n",
    "cv = CountVectorizer()\n",
    "cv_matrix = cv.fit_transform(p_corpus)\n",
    "print(cv_matrix)\n",
    "vocab = cv.vocabulary_\n",
    "\n",
    "get_word_vector('film', cv_matrix, vocab)\n",
    "\n",
    "# cv = CountVectorizer()\n",
    "# cv_matrix = cv.fit_transform(p_corpus)\n",
    "# film_index = cv.vocabulary_.get('film')\n",
    "# film_vector = cv_matrix[:, film_index]\n",
    "# print(film_vector)\n"
   ]
  },
  {
   "cell_type": "code",
   "execution_count": 5,
   "id": "258dd789",
   "metadata": {},
   "outputs": [
    {
     "name": "stdout",
     "output_type": "stream",
     "text": [
      "   actor   add  award  berlin  bowl  career  category  chipotle  cinema   \n",
      "0   0.00  0.26   0.00    0.00  0.26    0.00      0.00      0.26    0.00  \\\n",
      "1   0.00  0.00   0.00    0.00  0.00    0.00      0.00      0.00    0.00   \n",
      "2   0.00  0.00   0.00    0.00  0.00    0.00      0.00      0.00    0.30   \n",
      "3   0.00  0.00   0.00    0.00  0.00    0.00      0.00      0.00    0.00   \n",
      "4   0.00  0.00   0.00    0.00  0.00    0.00      0.37      0.00    0.31   \n",
      "5   0.00  0.00   0.00    0.00  0.00    0.00      0.00      0.00    0.00   \n",
      "6   0.31  0.00   0.31    0.31  0.00    0.31      0.00      0.00    0.00   \n",
      "\n",
      "   combine  ...  three  throughout  together  tortillas  toss  trough  twelve   \n",
      "0     0.26  ...   0.00        0.00      0.26       0.00  0.26    0.00    0.00  \\\n",
      "1     0.00  ...   0.28        0.00      0.00       0.00  0.00    0.28    0.00   \n",
      "2     0.00  ...   0.00        0.00      0.00       0.00  0.00    0.00    0.00   \n",
      "3     0.00  ...   0.00        0.00      0.00       0.52  0.00    0.00    0.00   \n",
      "4     0.00  ...   0.00        0.00      0.00       0.00  0.00    0.00    0.37   \n",
      "5     0.00  ...   0.00        0.61      0.00       0.00  0.00    0.00    0.00   \n",
      "6     0.00  ...   0.00        0.00      0.00       0.00  0.00    0.00    0.00   \n",
      "\n",
      "    two  whisk  world  \n",
      "0  0.00   0.26   0.00  \n",
      "1  0.00   0.00   0.00  \n",
      "2  0.36   0.00   0.00  \n",
      "3  0.00   0.00   0.00  \n",
      "4  0.00   0.00   0.37  \n",
      "5  0.00   0.00   0.00  \n",
      "6  0.00   0.00   0.00  \n",
      "\n",
      "[7 rows x 55 columns]\n"
     ]
    }
   ],
   "source": [
    "#представляємо корпус як модель TD-IDF на основі матриці з частотою термів\n",
    "tt = TfidfTransformer(norm='l2', use_idf=True)\n",
    "tt_matrix = tt.fit_transform(cv_matrix)\n",
    "tt_matrix = tt_matrix.toarray()\n",
    "vocab = cv.get_feature_names_out()\n",
    "print(pd.DataFrame(np.round(tt_matrix, 2), columns=vocab))"
   ]
  },
  {
   "cell_type": "code",
   "execution_count": 6,
   "id": "23970063",
   "metadata": {},
   "outputs": [
    {
     "name": "stdout",
     "output_type": "stream",
     "text": [
      "{'icoord': [[15.0, 15.0, 25.0, 25.0], [5.0, 5.0, 20.0, 20.0], [35.0, 35.0, 45.0, 45.0], [55.0, 55.0, 65.0, 65.0], [40.0, 40.0, 60.0, 60.0], [12.5, 12.5, 50.0, 50.0]], 'dcoord': [[0.0, 1.1045517205319766, 1.1045517205319766, 0.0], [0.0, 1.3620250271580145, 1.3620250271580145, 1.1045517205319766], [0.0, 1.2473936901078893, 1.2473936901078893, 0.0], [0.0, 1.2818381054828367, 1.2818381054828367, 0.0], [1.2473936901078893, 1.5639060579123933, 1.5639060579123933, 1.2818381054828367], [1.3620250271580145, 1.7076174442467749, 1.7076174442467749, 1.5639060579123933]], 'ivl': ['4', '2', '6', '1', '5', '0', '3'], 'leaves': [4, 2, 6, 1, 5, 0, 3], 'color_list': ['C1', 'C0', 'C0', 'C0', 'C0', 'C0'], 'leaves_color_list': ['C0', 'C1', 'C1', 'C0', 'C0', 'C0', 'C0']}\n"
     ]
    },
    {
     "data": {
      "image/png": "[encoded data removed]",
      "text/plain": [
       "<Figure size 800x300 with 1 Axes>"
      ]
     },
     "metadata": {},
     "output_type": "display_data"
    }
   ],
   "source": [
    "#розраховуємо подібність між документам для подальгої кластеризації\n",
    "similarity_matrix = cosine_similarity(tt_matrix)\n",
    "# на основі вже готової матриці подібності документів будується матриця зв'язку\n",
    "links = linkage(similarity_matrix, 'ward')\n",
    "#виконуємо кластеризацію\n",
    "plt.figure(figsize=(8, 3))\n",
    "plt.title('Дендрограма')\n",
    "plt.xlabel('Документи')\n",
    "plt.ylabel('Відстань')\n",
    "dendrogram(links)\n",
    "print(dendrogram(links))"
   ]
  },
  {
   "cell_type": "code",
   "execution_count": 7,
   "id": "3deb0447",
   "metadata": {},
   "outputs": [
    {
     "name": "stdout",
     "output_type": "stream",
     "text": [
      "[3 2 1 3 1 2 1]\n"
     ]
    }
   ],
   "source": [
    "# ...\n",
    "max_dist = 1.5\n",
    "cluster_labels = fcluster(links, max_dist, criterion='distance')\n",
    "print(cluster_labels)"
   ]
  },
  {
   "cell_type": "code",
   "execution_count": 8,
   "id": "ef7beec6",
   "metadata": {},
   "outputs": [
    {
     "name": "stdout",
     "output_type": "stream",
     "text": [
      "{'shrimp': ['evaporated', 'juice', 'stagnated', 'long', 'new'], 'economy': ['months', 'long', 'shrimp', 'cinema', 'world']}\n"
     ]
    }
   ],
   "source": [
    "# представляємо корпус як модель Word2Vec\n",
    "wpt = nltk.WordPunctTokenizer()\n",
    "tokenized_corpus = [wpt.tokenize(document) for document in p_corpus]\n",
    "feature_size = 100\n",
    "window_context = 30\n",
    "min_word_count = 1\n",
    "sample = 1e-3\n",
    "w2v_model = word2vec.Word2Vec(tokenized_corpus, vector_size=feature_size,window=window_context, min_count=min_word_count,sample=sample)\n",
    "# знаходмо подібні слова до слів shrimp, economy\n",
    "similar_words = {search_term: [item[0] for item in w2v_model.wv.most_similar([search_term],topn=5)]\n",
    "for search_term in ['shrimp', 'economy']}\n",
    "print(similar_words)"
   ]
  },
  {
   "cell_type": "code",
   "execution_count": null,
   "id": "8b2e5210",
   "metadata": {},
   "outputs": [],
   "source": []
  }
 ],
 "metadata": {
  "kernelspec": {
   "display_name": "Python 3 (ipykernel)",
   "language": "python",
   "name": "python3"
  },
  "language_info": {
   "codemirror_mode": {
    "name": "ipython",
    "version": 3
   },
   "file_extension": ".py",
   "mimetype": "text/x-python",
   "name": "python",
   "nbconvert_exporter": "python",
   "pygments_lexer": "ipython3",
   "version": "3.11.2"
  }
 },
 "nbformat": 4,
 "nbformat_minor": 5
}
