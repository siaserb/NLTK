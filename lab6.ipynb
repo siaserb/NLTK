{
 "cells": [
  {
   "cell_type": "markdown",
   "id": "d40d9de4",
   "metadata": {},
   "source": [
    "Варіант 1\n",
    "Завдання до лабораторної роботи\n",
    "Створити програму, яка:\n",
    "1. Зчитує Файл twitter1.csv, виконує попередню обробку, розбиває дані\n",
    "на навчальні на тестові. Виконує аналіз настроїв за допомогою логістичної регресії.\n",
    "2. Розрахувати матрицю невідповідностей, провести оцінку точності\n",
    "моделі.\n",
    "3. Використати один з готових лексиконів, наприклад Textblob, для аналізу\n",
    "оцінки настроїв. Також розрахувати матрицю невідповідностей,\n",
    "провести оцінку точності моделі.\n",
    "4. Обрати три випадкові записи та вивести результати оцінки їх настрою за\n",
    "пунктами 1 і 3."
   ]
  },
  {
   "cell_type": "code",
   "execution_count": 10,
   "id": "bfa0f8a6",
   "metadata": {},
   "outputs": [],
   "source": [
    "import pandas as pd\n",
    "import numpy as np\n",
    "import re\n",
    "import nltk\n",
    "from nltk.corpus import stopwords\n",
    "from nltk.tokenize import word_tokenize\n",
    "from sklearn.model_selection import train_test_split\n",
    "from sklearn.feature_extraction.text import CountVectorizer\n",
    "from sklearn.linear_model import LogisticRegression\n",
    "from sklearn.metrics import accuracy_score, confusion_matrix\n",
    "from textblob import TextBlob"
   ]
  },
  {
   "cell_type": "code",
   "execution_count": 11,
   "id": "58a0a1a2",
   "metadata": {},
   "outputs": [
    {
     "name": "stdout",
     "output_type": "stream",
     "text": [
      "      0            1         2   \n",
      "0  2401  Borderlands  Positive  \\\n",
      "1  2401  Borderlands  Positive   \n",
      "2  2401  Borderlands  Positive   \n",
      "3  2401  Borderlands  Positive   \n",
      "4  2401  Borderlands  Positive   \n",
      "\n",
      "                                                   3  \n",
      "0  im getting on borderlands and i will murder yo...  \n",
      "1  I am coming to the borders and I will kill you...  \n",
      "2  im getting on borderlands and i will kill you ...  \n",
      "3  im coming on borderlands and i will murder you...  \n",
      "4  im getting on borderlands 2 and i will murder ...  \n"
     ]
    }
   ],
   "source": [
    "# здійснюємо імпорт таблиці\n",
    "data = pd.read_csv(\"twitter1.csv\", header=None)\n",
    "column_names = data.columns.tolist()\n",
    "\n",
    "print(data.head(5))"
   ]
  },
  {
   "cell_type": "code",
   "execution_count": 12,
   "id": "19f2fb57",
   "metadata": {},
   "outputs": [
    {
     "name": "stdout",
     "output_type": "stream",
     "text": [
      "      0            1         2                              3\n",
      "0  2401  Borderlands  Positive  im getting borderlands murder\n",
      "1  2401  Borderlands  Positive            coming borders kill\n",
      "2  2401  Borderlands  Positive    im getting borderlands kill\n",
      "3  2401  Borderlands  Positive   im coming borderlands murder\n",
      "4  2401  Borderlands  Positive  im getting borderlands murder\n",
      "<class 'pandas.core.frame.DataFrame'>\n",
      "RangeIndex: 74682 entries, 0 to 74681\n",
      "Data columns (total 4 columns):\n",
      " #   Column  Non-Null Count  Dtype \n",
      "---  ------  --------------  ----- \n",
      " 0   0       74682 non-null  int64 \n",
      " 1   1       74682 non-null  object\n",
      " 2   2       74682 non-null  object\n",
      " 3   3       72364 non-null  object\n",
      "dtypes: int64(1), object(3)\n",
      "memory usage: 2.3+ MB\n",
      "<class 'pandas.core.frame.DataFrame'>\n",
      "RangeIndex: 72364 entries, 0 to 72363\n",
      "Data columns (total 4 columns):\n",
      " #   Column  Non-Null Count  Dtype \n",
      "---  ------  --------------  ----- \n",
      " 0   0       72364 non-null  int64 \n",
      " 1   1       72364 non-null  object\n",
      " 2   2       72364 non-null  object\n",
      " 3   3       72364 non-null  object\n",
      "dtypes: int64(1), object(3)\n",
      "memory usage: 2.2+ MB\n",
      "           0                     1         2   \n",
      "68132  10846  TomClancysGhostRecon   Neutral  \\\n",
      "9441   12884         Xbox(Xseries)   Neutral   \n",
      "14383   2946                 Dota2  Negative   \n",
      "\n",
      "                                                       3  \n",
      "68132  feel like ive hardly gotten draws league latel...  \n",
      "9441   board xbox series x really want buy launchbut ...  \n",
      "14383                                                wtf  \n"
     ]
    }
   ],
   "source": [
    "# за допомогою функції з поперідньої лабораторної обробляємо наш текст\n",
    "wpt = nltk.WordPunctTokenizer()\n",
    "stop_words = nltk.corpus.stopwords.words('english')\n",
    "\n",
    "def preproc_doc(doc):\n",
    "    doc = re.sub(r'[^a-zA-Z\\s]', '', doc)\n",
    "    doc = doc.lower().strip()\n",
    "    tokens = word_tokenize(doc)\n",
    "    stop_words = set(stopwords.words('english'))\n",
    "    filtered_tokens = [token for token in tokens if token not in stop_words]\n",
    "    doc = ' '.join(filtered_tokens)\n",
    "    return doc\n",
    "\n",
    "data[3] = data[3].apply(lambda x: preproc_doc(x) if isinstance(x, str) else x)\n",
    "    \n",
    "print(data.head(5))\n",
    "\n",
    "# виконуємо пошук пустих документі, які могли виникнути під час обробки\n",
    "data = data.replace(r'^(\\s?)+$', np.nan, regex=True)\n",
    "data.info()\n",
    "\n",
    "# видаляємо ці документи\n",
    "data = data.dropna().reset_index(drop=True)\n",
    "data.info()\n",
    "\n",
    "# зберігаємо три випадкові записи з таблиці в змінну для четвертого завдання\n",
    "random_samples = data.sample(n=3)\n",
    "print(random_samples)"
   ]
  },
  {
   "cell_type": "code",
   "execution_count": 13,
   "id": "5f89e4fd",
   "metadata": {},
   "outputs": [
    {
     "data": {
      "text/plain": [
       "((57891, 35750), (14473, 35750))"
      ]
     },
     "execution_count": 13,
     "metadata": {},
     "output_type": "execute_result"
    }
   ],
   "source": [
    "# розділяємо дані на тестову та навчальну вибірки\n",
    "train_mood, test_mood, train_content, test_content = train_test_split(\n",
    "    np.array(data[2]),\n",
    "    np.array(data[3]),\n",
    "    test_size=0.2,\n",
    "    random_state=42\n",
    ")\n",
    "# створюємо сумку слів\n",
    "cv = CountVectorizer(binary=False, min_df=0.0, max_df=1.0)\n",
    "cv_train_content = cv.fit_transform(train_content)\n",
    "cv_test_content = cv.transform(test_content)\n",
    "cv_train_content.shape, cv_test_content.shape"
   ]
  },
  {
   "cell_type": "code",
   "execution_count": 14,
   "id": "8965474f",
   "metadata": {},
   "outputs": [
    {
     "name": "stdout",
     "output_type": "stream",
     "text": [
      "Accuracy: 0.8408761141435777\n",
      "Confusion Matrix:\n",
      "[[1904  192  142  246]\n",
      " [  93 3903  191  272]\n",
      " [ 112  232 2837  284]\n",
      " [ 100  258  181 3526]]\n"
     ]
    }
   ],
   "source": [
    "# ініціалізуємо логістичну регресію\n",
    "logreg = LogisticRegression(penalty='l2', max_iter=1000, C=1, random_state=0)\n",
    "\n",
    "# навчаємо модель на навчальних даних\n",
    "logreg.fit(cv_train_content, train_mood)\n",
    "\n",
    "# прогнозуємо настрій для тестових даних\n",
    "pred_mood = logreg.predict(cv_test_content)\n",
    "\n",
    "# оцінюємо точність моделі\n",
    "accuracy = accuracy_score(test_mood, pred_mood)\n",
    "print(\"Accuracy:\", accuracy)\n",
    "\n",
    "# розрахуємо матрицю невідповідностей\n",
    "confusion_mtx = confusion_matrix(test_mood, pred_mood)\n",
    "print(\"Confusion Matrix:\")\n",
    "print(confusion_mtx)"
   ]
  },
  {
   "cell_type": "code",
   "execution_count": 15,
   "id": "12205665",
   "metadata": {},
   "outputs": [
    {
     "name": "stdout",
     "output_type": "stream",
     "text": [
      "Accuracy: 0.3995771378033276\n"
     ]
    }
   ],
   "source": [
    "# аналіз настрою коментарів\n",
    "data[3] = data[3].apply(lambda x: TextBlob(str(x)).sentiment.polarity)\n",
    "\n",
    "# конвертація значень настрою в рядки\n",
    "data[3] = data[3].apply(lambda x: 'Positive' if x > 0 else 'Negative' if x < 0 else 'Neutral')\n",
    "\n",
    "# порівняння результатів\n",
    "accuracy = (data[3] == data[2]).mean()\n",
    "print(\"Accuracy:\", accuracy)"
   ]
  },
  {
   "cell_type": "code",
   "execution_count": 16,
   "id": "d6fa78b3",
   "metadata": {},
   "outputs": [
    {
     "name": "stdout",
     "output_type": "stream",
     "text": [
      "Матриця:\n",
      "[[    0  3266  3334  6030]\n",
      " [    0 10386  5731  5798]\n",
      " [    0  4330  5393  7926]\n",
      " [    0  3167  3867 13136]]\n"
     ]
    }
   ],
   "source": [
    "# побудова матриці невідповідностей\n",
    "confusion_mat = confusion_matrix(data[2], data[3])\n",
    "print(\"Матриця:\")\n",
    "print(confusion_mat)"
   ]
  },
  {
   "cell_type": "code",
   "execution_count": 17,
   "id": "2f8d16aa",
   "metadata": {},
   "outputs": [
    {
     "name": "stdout",
     "output_type": "stream",
     "text": [
      "Accuracy: 0.0\n",
      "Confusion Matrix:\n",
      "[[0 0]\n",
      " [1 0]]\n"
     ]
    }
   ],
   "source": [
    "# розділяємо дані на тестову та навчальну вибірки\n",
    "train_mood, test_mood, train_content, test_content = train_test_split(\n",
    "    np.array(random_samples[2]),\n",
    "    np.array(random_samples[3]),\n",
    "    test_size=0.3,\n",
    "    random_state=42\n",
    ")\n",
    "# створюємо сумку слів\n",
    "cv = CountVectorizer(binary=False, min_df=0.0, max_df=1.0)\n",
    "cv_train_content = cv.fit_transform(train_content)\n",
    "cv_test_content = cv.transform(test_content)\n",
    "cv_train_content.shape, cv_test_content.shape\n",
    "# навчаємо моделі на навчальних даних\n",
    "logreg.fit(cv_train_content, train_mood)\n",
    "\n",
    "# прогнозуємо настрій для тестових даних\n",
    "pred_mood = logreg.predict(cv_test_content)\n",
    "\n",
    "# оцінка точності моделі\n",
    "accuracy = accuracy_score(test_mood, pred_mood)\n",
    "print(\"Accuracy:\", accuracy)\n",
    "\n",
    "# розрахунок матриці невідповідностей\n",
    "confusion_mtx = confusion_matrix(test_mood, pred_mood)\n",
    "print(\"Confusion Matrix:\")\n",
    "print(confusion_mtx)"
   ]
  },
  {
   "cell_type": "code",
   "execution_count": 18,
   "id": "c438a6c6",
   "metadata": {},
   "outputs": [
    {
     "name": "stdout",
     "output_type": "stream",
     "text": [
      "           0                     1         2         3\n",
      "68132  10846  TomClancysGhostRecon   Neutral  Positive\n",
      "9441   12884         Xbox(Xseries)   Neutral  Positive\n",
      "14383   2946                 Dota2  Negative  Negative\n",
      "Accuracy: 0.3333333333333333\n",
      "Матриця:\n",
      "[[1 0 0]\n",
      " [0 0 2]\n",
      " [0 0 0]]\n"
     ]
    }
   ],
   "source": [
    "# аналіз настрою коментарів\n",
    "random_samples[3] = random_samples[3].apply(lambda x: TextBlob(str(x)).sentiment.polarity)\n",
    "\n",
    "# конвертація значень настрою в рядки\n",
    "random_samples[3] = random_samples[3].apply(lambda x: 'Positive' if x > 0 else 'Negative' if x < 0 else 'Neutral')\n",
    "print(random_samples.head())\n",
    "# порівняння результатів\n",
    "accuracy = (random_samples[3] == random_samples[2]).mean()\n",
    "print(\"Accuracy:\", accuracy)\n",
    "\n",
    "# побудова матриці невідповідностей\n",
    "confusion_mat = confusion_matrix(random_samples[2], random_samples[3])\n",
    "print(\"Матриця:\")\n",
    "print(confusion_mat)"
   ]
  },
  {
   "cell_type": "code",
   "execution_count": null,
   "id": "0bf86c7b",
   "metadata": {},
   "outputs": [],
   "source": []
  }
 ],
 "metadata": {
  "kernelspec": {
   "display_name": "Python 3 (ipykernel)",
   "language": "python",
   "name": "python3"
  },
  "language_info": {
   "codemirror_mode": {
    "name": "ipython",
    "version": 3
   },
   "file_extension": ".py",
   "mimetype": "text/x-python",
   "name": "python",
   "nbconvert_exporter": "python",
   "pygments_lexer": "ipython3",
   "version": "3.11.2"
  }
 },
 "nbformat": 4,
 "nbformat_minor": 5
}
